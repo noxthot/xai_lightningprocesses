{
 "cells": [
  {
   "cell_type": "code",
   "execution_count": null,
   "id": "94867c3c-5ed9-47ba-9ff9-e1a905af057f",
   "metadata": {},
   "outputs": [],
   "source": [
    "import imageio\n",
    "import os\n",
    "import torch\n",
    "\n",
    "import ccc\n",
    "import utils\n",
    "\n",
    "import cartopy.crs as ccrs\n",
    "import cartopy.feature as cfeature\n",
    "import matplotlib.cm as cm\n",
    "import matplotlib.lines as mlines\n",
    "import matplotlib.colors as mcolors\n",
    "import matplotlib.pyplot as plt\n",
    "import numpy as np\n",
    "import pandas as pd\n",
    "import seaborn as sns\n",
    "\n",
    "from affine import Affine\n",
    "from datetime import datetime\n",
    "from matplotlib.transforms import offset_copy\n",
    "from sklearn.metrics import f1_score, precision_score, matthews_corrcoef, recall_score\n",
    "\n",
    "from utils_plots import cmap_map"
   ]
  },
  {
   "cell_type": "code",
   "execution_count": null,
   "id": "99dcfa1d-5865-4e99-9fa9-2990dd20e229",
   "metadata": {},
   "outputs": [],
   "source": [
    "df_elevation = utils.getElevationMap()"
   ]
  },
  {
   "cell_type": "code",
   "execution_count": null,
   "id": "f55ebcb7",
   "metadata": {},
   "outputs": [],
   "source": [
    "TARGET_MODE = 1\n",
    "MODELDIR = \"2022_02_21__11-11__ALDIS_paper\""
   ]
  },
  {
   "cell_type": "code",
   "execution_count": null,
   "id": "0754fcd2",
   "metadata": {},
   "outputs": [],
   "source": [
    "tmsubdir = f'targetmode_{TARGET_MODE}'\n",
    "model_root_tm_path = os.path.join(ccc.MODEL_ROOT_PATH, tmsubdir)\n",
    "    \n",
    "modelpath = os.path.join(model_root_tm_path, MODELDIR)\n",
    "    \n",
    "opt_threshold = 0.8708981871604919\n",
    "\n",
    "_, model_name = utils.load_model(os.path.join(tmsubdir, MODELDIR), torch.device(\"cpu\"), 18)\n",
    "\n",
    "shap_path = os.path.join(modelpath, f\"{model_name}_shap_parquet\")\n",
    "\n",
    "df_path = os.path.join(modelpath, f\"{model_name}_test_df.pickle\")\n",
    "\n",
    "output_path = os.path.join(modelpath, f\"{model_name}_plots_casestudy_reworked\")"
   ]
  },
  {
   "cell_type": "code",
   "execution_count": null,
   "id": "64aec78a-dbb9-41c6-a70e-50e82aa8d23a",
   "metadata": {},
   "outputs": [],
   "source": [
    "df_test = pd.read_pickle(df_path)"
   ]
  },
  {
   "cell_type": "code",
   "execution_count": null,
   "id": "d9a4979b-aa50-494b-8ee8-ee6de0cb6387",
   "metadata": {},
   "outputs": [],
   "source": [
    "df_test.columns"
   ]
  },
  {
   "cell_type": "code",
   "execution_count": null,
   "id": "6d2962be-3a6f-43e5-944a-981125be7c0e",
   "metadata": {},
   "outputs": [],
   "source": [
    "#conversion to datetime\n",
    "df_test[\"datetime\"] = pd.to_datetime(df_test[['year', 'month', 'day', 'hour']])\n",
    "df = df_test[[\"datetime\", \"latitude\", \"longitude\", \"target\", \"output\", \"day\", \"hour\"]]\n",
    "df.sort_values(by=['datetime'], ascending= True)\n",
    "df = df.assign(category = \"\")"
   ]
  },
  {
   "cell_type": "code",
   "execution_count": null,
   "id": "e0a9e822-8742-4828-9b75-edad89d44e4b",
   "metadata": {},
   "outputs": [],
   "source": [
    "#column category\n",
    "vc_threshold = utils.getVeryConfidentThreshold(opt_threshold)\n",
    "\n",
    "df['category'] = np.select(\n",
    " [\n",
    "    (df['output'] >= vc_threshold) & (df['target'] > 0.5),\n",
    "    (df['output'] < vc_threshold) & (df['output'] >= opt_threshold) & (df['target'] > 0.5),\n",
    "    (df['output'] < opt_threshold) & (df['target'] > 0.5),\n",
    "    (df['output'] >= opt_threshold) & (df['target'] < 0.5),\n",
    "    (df['output'] < opt_threshold) & (df['target'] < 0.5)\n",
    " ],\n",
    " [\n",
    "    'TP_VC', # very confident true positive\n",
    "    'TP_LC', # less confident true positive\n",
    "    'FN',    # false negative\n",
    "    'FP',    # false positive\n",
    "    'TN'    # true negative\n",
    " ],\n",
    " default='ERROR'\n",
    ")\n"
   ]
  },
  {
   "cell_type": "code",
   "execution_count": null,
   "id": "64e1d089-d8d0-438e-8257-ed8a38715b62",
   "metadata": {},
   "outputs": [],
   "source": [
    "#Neue Spalten anlegen: y_true, y_pred\n",
    "\n",
    "df['y_true'] = df['target'].astype(np.int32)\n",
    "df['y_pred'] = (df['output'] >= opt_threshold).astype(np.int32)\n",
    "df"
   ]
  },
  {
   "cell_type": "code",
   "execution_count": null,
   "id": "4fa56e55-0e6c-4aa8-ac1b-1f665961fdd7",
   "metadata": {},
   "outputs": [],
   "source": [
    "longs = []\n",
    "lats = []\n",
    "mccs = []\n",
    "f1scores = []\n",
    "precisionscores = []\n",
    "recallscores = []\n",
    "\n",
    "for long in np.unique(df.longitude):\n",
    "    for lat in np.unique(df.latitude):        \n",
    "        test = df[(df.longitude == long) & (df.latitude == lat)]\n",
    "        f1score= f1_score(test['y_true'], test['y_pred'])\n",
    "        mcc = matthews_corrcoef(test['y_true'], test['y_pred'])\n",
    "        precision = precision_score(test['y_true'], test['y_pred'])\n",
    "        recall = recall_score(test['y_true'], test['y_pred'])\n",
    "        \n",
    "        f1scores.append(f1score)\n",
    "        mccs.append(mcc)\n",
    "        precisionscores.append(precision)\n",
    "        recallscores.append(recall)\n",
    "        longs.append(long)\n",
    "        lats.append(lat)\n",
    "        \n",
    "df_scores = pd.DataFrame({\"longitude\" : longs, \"latitude\" : lats, \"mcc\" : mccs, \"f1score\" : f1scores, \"recall\" : recallscores, \"precision\" : precisionscores})\n"
   ]
  },
  {
   "cell_type": "code",
   "execution_count": null,
   "id": "666fbed2-0065-4af6-87bd-576ca310f4f4",
   "metadata": {},
   "outputs": [],
   "source": [
    "os.makedirs(output_path, exist_ok=True)\n",
    "\n",
    "palette = \"cool\"\n",
    "score_col = \"precision\"\n",
    "\n",
    "fig = plt.figure(figsize=(19.2, 10.8))\n",
    "plt.axis('off')\n",
    "\n",
    "ax = plt.axes([0, 0, 1, 1], projection=ccrs.Mercator(), frameon=False)\n",
    "ax.set_title(score_col)\n",
    "ax.patch.set_visible(False)\n",
    "\n",
    "ax.set_extent([8, 17, 45, 50], crs=ccrs.Geodetic())\n",
    "ax.add_feature(cfeature.LAND)\n",
    "ax.add_feature(cfeature.OCEAN)\n",
    "ax.add_feature(cfeature.COASTLINE)\n",
    "ax.add_feature(cfeature.BORDERS, linestyle='-')\n",
    "ax.add_feature(cfeature.LAKES, alpha=0.5)\n",
    "\n",
    "ax.scatter(df_scores[\"longitude\"], df_scores[\"latitude\"], c=df_scores[score_col], marker='.', s=df_scores[score_col] * 1500, alpha=0.7, linewidth=2, label=score_col, cmap=palette, transform=ccrs.Geodetic())\n",
    "\n",
    "normalize = mcolors.Normalize(vmin=df_scores[score_col].min(), vmax=df_scores[score_col].max())\n",
    "\n",
    "scalarmappaple = cm.ScalarMappable(cmap=plt.colormaps[palette], norm=normalize)\n",
    "plt.colorbar(scalarmappaple, ax=ax)\n",
    "\n",
    "fig.savefig(os.path.join(output_path, f\"quality_{score_col}.png\"))\n",
    "                         \n",
    "plt.show()"
   ]
  },
  {
   "cell_type": "code",
   "execution_count": null,
   "id": "ea9ac645",
   "metadata": {},
   "outputs": [],
   "source": [
    "from matplotlib.colors import LinearSegmentedColormap\n",
    "\n",
    "nodes = [0.0, opt_threshold - 0.05, opt_threshold, opt_threshold + 0.01, 1.0]\n",
    "colors = [\"darkred\", \"lightcoral\", \"grey\", \"darkolivegreen\", \"darkgreen\"]\n",
    "cmap1 = LinearSegmentedColormap.from_list(\"mycmap\", list(zip(nodes, colors)))\n",
    "cmap1"
   ]
  },
  {
   "cell_type": "code",
   "execution_count": null,
   "id": "92045cfa-af55-4ad1-a58b-3187d0c522fc",
   "metadata": {},
   "outputs": [],
   "source": [
    "light_pink_r = cmap_map(lambda x: 0.3 + x / 1.5, cm.pink_r)\n",
    "\n",
    "light_pink_r"
   ]
  },
  {
   "cell_type": "code",
   "execution_count": null,
   "id": "404dd7ee-9580-4655-b73f-6d20195e91ec",
   "metadata": {},
   "outputs": [],
   "source": [
    "os.makedirs(output_path, exist_ok=True)\n",
    "\n",
    "legend_TP_VC = mlines.Line2D([], [], marker=\"D\", markersize=14, alpha=1, label='TP_VC', color=\"darkgreen\", markeredgecolor='darkgreen', linewidth=2, linestyle='None')\n",
    "legend_TP_LC = mlines.Line2D([], [], marker=\"D\", markersize=12, alpha=0.95, color=\"darkolivegreen\", label='TP_LC', linestyle='None')\n",
    "legend_FN = mlines.Line2D([], [], marker=\"D\", markersize=12, alpha=0.7, label='FN', color=\"lightcoral\", markeredgecolor='darkred', linewidth=2, linestyle='None')\n",
    "legend_FP = mlines.Line2D([], [], marker='.', markersize=12, alpha=0.7, label='FP', color=\"darkolivegreen\", linestyle='None')\n",
    "\n",
    "legend_elements = [legend_TP_VC, legend_TP_LC, legend_FN, legend_FP]\n",
    "\n",
    "for specdate in np.unique(df_test.datetime.dt.date)[19:20]:\n",
    "    for hour in [18]: #range(24):\n",
    "        date = datetime(specdate.year, specdate.month, specdate.day, hour)\n",
    "        test = df[df.datetime == date]\n",
    "\n",
    "        fig = plt.figure(figsize =(19.2, 10.8))\n",
    "        ax.patch.set_visible(False)\n",
    "        ax = plt.axes([0, 0, 1, 1], projection=ccrs.Mercator(), frameon=False)\n",
    "        ax.patch.set_visible(False)\n",
    "        ax.legend(handles=legend_elements, loc=\"upper left\", fontsize=15)\n",
    "               \n",
    "        # Limit the extent of the map to a small longitude/latitude range.\n",
    "\n",
    "        ax.set_extent([7.9, 17.1, 44.9, 50.1], crs=ccrs.Geodetic())\n",
    "        \n",
    "        ax.scatter(df_elevation[\"longitude\"], df_elevation[\"latitude\"], c=df_elevation[\"elevation\"], transform=ccrs.Geodetic(), cmap=light_pink_r, alpha=0.4)\n",
    "        ax.gridlines(linestyle=\"--\", xlocs=np.arange(8 - 0.125, 17.25, 0.25), ylocs=np.arange(45 - 0.125, 50.25, 0.25), color=\"grey\")\n",
    "\n",
    "        TP_VC = test[test.category == \"TP_VC\"] \n",
    "        TP_LC = test[test.category == \"TP_LC\"]\n",
    "        FN = test[test.category == \"FN\"]\n",
    "        FP = test[test.category == \"FP\"]\n",
    "        TN = test[test.category == \"TN\"]\n",
    "        \n",
    "        ax.add_feature(cfeature.LAND)\n",
    "        #ax.add_feature(cfeature.OCEAN)\n",
    "        ax.add_feature(cfeature.COASTLINE)\n",
    "        ax.add_feature(cfeature.BORDERS, linestyle='-')\n",
    "        #ax.add_feature(cfeature.LAKES, alpha=0.5)\n",
    "        \n",
    "        ax.scatter(TP_VC[\"longitude\"], TP_VC[\"latitude\"], c=TP_VC['output'], marker=\"D\", s=200, alpha=1, edgecolor='darkgreen', linewidth=2, label='TP_VC', transform=ccrs.Geodetic(), cmap=cmap1, vmin=0, vmax=1)\n",
    "        ax.scatter(TP_LC[\"longitude\"], TP_LC[\"latitude\"], c=TP_LC['output'], marker=\"D\", s=150, alpha=1, label='TP_LC', linewidth=0, transform=ccrs.Geodetic(), cmap=cmap1, vmin=0, vmax=1)\n",
    "        ax.scatter(FN[\"longitude\"], FN[\"latitude\"], c=FN['output'], marker=\"D\", s=150, alpha=1, edgecolor='darkred', linewidth=2, label='FN', transform=ccrs.Geodetic(), cmap=cmap1, vmin=0, vmax=1)\n",
    "        ax.scatter(FP[\"longitude\"], FP[\"latitude\"], c=FP['output'], marker='.', s=150, alpha=1, linewidth=0, label='FP', transform=ccrs.Geodetic(), cmap=cmap1, vmin=0, vmax=1)\n",
    "\n",
    "        # Adding text\n",
    "        # Positions for the date\n",
    "        geodetic_transform = ccrs.Geodetic()._as_mpl_transform(ax)\n",
    "        text_transform = offset_copy(geodetic_transform, units='dots')\n",
    "        ax.text(16.8, 49.7, f\"{date.strftime('%m/%d/%Y, %H:00')}\",\n",
    "                verticalalignment='center', horizontalalignment='right',transform=text_transform, fontsize = 20)\n",
    "\n",
    "        fig.savefig(os.path.join(output_path, f\"frame_{specdate}_{hour:02d}.png\"), dpi=100, facecolor='auto', bbox_inches='tight')\n",
    "        \n",
    "        ax.clear()"
   ]
  },
  {
   "cell_type": "code",
   "execution_count": null,
   "id": "4bafe98a-a86f-404f-9a3c-00dbcc029b48",
   "metadata": {},
   "outputs": [],
   "source": [
    "#Animation\n",
    "import os\n",
    "\n",
    "images = []\n",
    "\n",
    "for file_name in sorted(os.listdir(output_path)):\n",
    "    if file_name.endswith('.png'):\n",
    "        file_path = os.path.join(output_path, file_name)\n",
    "        img = imageio.imread(file_path, pilmode=\"RGB\")\n",
    "        images.append(img)"
   ]
  },
  {
   "cell_type": "code",
   "execution_count": null,
   "id": "70e5eff8",
   "metadata": {},
   "outputs": [],
   "source": [
    "with imageio.get_writer(os.path.join(output_path, 'animation_fast.avi'), fps=24) as writer:\n",
    "    for im in images:\n",
    "        writer.append_data(im)"
   ]
  },
  {
   "cell_type": "code",
   "execution_count": null,
   "id": "114b0ffc",
   "metadata": {},
   "outputs": [],
   "source": []
  }
 ],
 "metadata": {
  "kernelspec": {
   "display_name": "Python 3 (ipykernel)",
   "language": "python",
   "name": "python3"
  },
  "language_info": {
   "codemirror_mode": {
    "name": "ipython",
    "version": 3
   },
   "file_extension": ".py",
   "mimetype": "text/x-python",
   "name": "python",
   "nbconvert_exporter": "python",
   "pygments_lexer": "ipython3",
   "version": "3.10.12"
  },
  "vscode": {
   "interpreter": {
    "hash": "f77099b03e26f5f2a39d729b0e5ff7cce62b3e0b846f69c8115517d984996de7"
   }
  }
 },
 "nbformat": 4,
 "nbformat_minor": 5
}
